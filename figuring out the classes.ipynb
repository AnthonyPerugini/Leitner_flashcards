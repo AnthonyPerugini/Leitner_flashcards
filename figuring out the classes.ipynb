{
 "cells": [
  {
   "cell_type": "code",
   "execution_count": 253,
   "id": "5816418a",
   "metadata": {},
   "outputs": [],
   "source": [
    "import os\n",
    "import json\n",
    "from json import JSONEncoder\n",
    "from dataclasses import dataclass\n",
    "from datetime import datetime, timedelta\n",
    "\n",
    "\n",
    "class Agent:\n",
    "    \n",
    "    def __init__(self, filepath, boxes=None):\n",
    "        \n",
    "        self.filepath = filepath\n",
    "        self.boxes = boxes if boxes is not None else []\n",
    "        \n",
    "        \n",
    "    def read_in_boxes_from_file(self):\n",
    "        \n",
    "        with open(os.path.join(os.getcwd(), self.filepath), 'r') as f:\n",
    "            boxes_dicts = json.loads(f.read())['boxes']\n",
    "            \n",
    "        boxes = []\n",
    "        for box_dict in boxes_dicts:\n",
    "            contents = box_dict['contents']\n",
    "            frequency = box_dict['freq']\n",
    "\n",
    "            flashcards = self.build_flashcards_from_json(contents)\n",
    "            box = self.build_box_from_json(flashcards, frequency)\n",
    "            \n",
    "            boxes.append(box)\n",
    "                \n",
    "        self.boxes = boxes\n",
    "        \n",
    "        \n",
    "    def build_flashcards_from_json(self, data):\n",
    "        \n",
    "        flashcards = []\n",
    "        for fc in data:\n",
    "            q = fc['question']\n",
    "            a = fc['answer']\n",
    "            c_b = fc['current_box']\n",
    "            a_n = datetime.fromisoformat(fc['answer_next']['iso'])\n",
    "            flashcard = Flashcard(q, a, c_b, a_n)\n",
    "            flashcards.append(flashcard)\n",
    "            \n",
    "        return flashcards\n",
    "    \n",
    "    \n",
    "    def build_box_from_json(self, flashcards, freq):\n",
    "        frequency = timedelta(days=freq['days'], seconds=freq['seconds'], microseconds=freq['microseconds'])\n",
    "        return Box(flashcards, freq)\n",
    "\n",
    "    \n",
    "    def save_boxes_to_file(self):\n",
    "        \n",
    "        if os.path.exists(t := os.path.join(os.getcwd(), self.filepath)):\n",
    "            x = input(f'Are you sure you would like to overwrite file {t}? -press- \"Y/y\" for Yes or Any key to Quit: ')\n",
    "            if x.upper() == 'Y':\n",
    "                print('Overwriting...')\n",
    "            else:\n",
    "                print('Aborting...')\n",
    "                \n",
    "        with open(os.path.join(os.getcwd(), self.filepath), 'w') as f:\n",
    "            agent_data = json.dumps(self, indent=4, cls=AgentEncoder) # remove indent for compact storage? YES DUH, WAY BETTER STORAGE SIZE LIKE HOLY SHIT\n",
    "            f.write(agent_data)\n",
    "            \n",
    "\n",
    "@dataclass\n",
    "class Box:\n",
    "    \n",
    "    contents: list=None\n",
    "    freq: timedelta=timedelta(days=1)\n",
    "        \n",
    "    def __post_init__(self):\n",
    "        if isinstance(self.freq, int) or isinstance(self.freq, float):\n",
    "            self.freq = timedelta(seconds=self.freq)\n",
    "\n",
    "        \n",
    "@dataclass\n",
    "class Flashcard:\n",
    "    \n",
    "    question: str = '1+1'\n",
    "    answer: str = '2'\n",
    "    current_box: int = 1\n",
    "    answer_next: datetime = datetime.now()\n",
    "        \n",
    "        \n",
    "class AgentEncoder(JSONEncoder):\n",
    "    \n",
    "    def default(self, o):\n",
    "        if isinstance(o, timedelta):\n",
    "            return dict(days=o.days, seconds=o.seconds, microseconds=o.microseconds)\n",
    "        if isinstance(o, datetime):\n",
    "            return dict(iso=o.isoformat())\n",
    "        return o.__dict__"
   ]
  },
  {
   "cell_type": "code",
   "execution_count": 254,
   "id": "587c11bc",
   "metadata": {},
   "outputs": [
    {
     "name": "stdout",
     "output_type": "stream",
     "text": [
      "Are you sure you would like to overwrite file /home/spicy/fun/repos/Leitner_flashcards/test? -press- \"Y/y\" for Yes or Any key to Quit: y\n",
      "Overwriting...\n"
     ]
    }
   ],
   "source": [
    "flashcards = [Flashcard() for _ in range(3)]\n",
    "boxes = [Box(freq=1.66) for i in range(3)]\n",
    "\n",
    "for box in boxes:\n",
    "    box.contents = flashcards\n",
    "\n",
    "    \n",
    "\n",
    "a = Agent('test', boxes)\n",
    "a.save_boxes_to_file()"
   ]
  },
  {
   "cell_type": "code",
   "execution_count": 255,
   "id": "62016cc6",
   "metadata": {
    "scrolled": true
   },
   "outputs": [
    {
     "data": {
      "text/plain": [
       "[Box(contents=[Flashcard(question='1+1', answer='2', current_box=1, answer_next=datetime.datetime(2022, 8, 14, 14, 34, 11, 300956)), Flashcard(question='1+1', answer='2', current_box=1, answer_next=datetime.datetime(2022, 8, 14, 14, 34, 11, 300956)), Flashcard(question='1+1', answer='2', current_box=1, answer_next=datetime.datetime(2022, 8, 14, 14, 34, 11, 300956))], freq={'days': 0, 'seconds': 1, 'microseconds': 660000}),\n",
       " Box(contents=[Flashcard(question='1+1', answer='2', current_box=1, answer_next=datetime.datetime(2022, 8, 14, 14, 34, 11, 300956)), Flashcard(question='1+1', answer='2', current_box=1, answer_next=datetime.datetime(2022, 8, 14, 14, 34, 11, 300956)), Flashcard(question='1+1', answer='2', current_box=1, answer_next=datetime.datetime(2022, 8, 14, 14, 34, 11, 300956))], freq={'days': 0, 'seconds': 1, 'microseconds': 660000}),\n",
       " Box(contents=[Flashcard(question='1+1', answer='2', current_box=1, answer_next=datetime.datetime(2022, 8, 14, 14, 34, 11, 300956)), Flashcard(question='1+1', answer='2', current_box=1, answer_next=datetime.datetime(2022, 8, 14, 14, 34, 11, 300956)), Flashcard(question='1+1', answer='2', current_box=1, answer_next=datetime.datetime(2022, 8, 14, 14, 34, 11, 300956))], freq={'days': 0, 'seconds': 1, 'microseconds': 660000})]"
      ]
     },
     "execution_count": 255,
     "metadata": {},
     "output_type": "execute_result"
    }
   ],
   "source": [
    "b = Agent('test')\n",
    "b.read_in_boxes_from_file()\n",
    "b.boxes"
   ]
  },
  {
   "cell_type": "code",
   "execution_count": null,
   "id": "bd68d1a4",
   "metadata": {},
   "outputs": [],
   "source": []
  }
 ],
 "metadata": {
  "kernelspec": {
   "display_name": "Python 3 (ipykernel)",
   "language": "python",
   "name": "python3"
  },
  "language_info": {
   "codemirror_mode": {
    "name": "ipython",
    "version": 3
   },
   "file_extension": ".py",
   "mimetype": "text/x-python",
   "name": "python",
   "nbconvert_exporter": "python",
   "pygments_lexer": "ipython3",
   "version": "3.8.10"
  }
 },
 "nbformat": 4,
 "nbformat_minor": 5
}
